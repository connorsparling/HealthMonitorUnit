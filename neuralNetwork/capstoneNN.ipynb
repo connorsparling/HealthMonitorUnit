{
 "cells": [
  {
   "cell_type": "code",
   "execution_count": 1,
   "metadata": {},
   "outputs": [
    {
     "data": {
      "text/plain": [
       "<torch._C.Generator at 0x211c3398cd0>"
      ]
     },
     "execution_count": 1,
     "metadata": {},
     "output_type": "execute_result"
    }
   ],
   "source": [
    "import torch\n",
    "import torch.nn as nn\n",
    "import torch.nn.functional as F\n",
    "import torch.optim as optim\n",
    "\n",
    "torch.manual_seed(1)"
   ]
  },
  {
   "cell_type": "code",
   "execution_count": 2,
   "metadata": {},
   "outputs": [],
   "source": [
    "# size of the input at each time step\n",
    "# TODO: input sizes????\n",
    "input_size = 5\n",
    "# size of the hidden state and cell state at each time step\n",
    "hidden_size = [64, 32, 8]\n",
    "# TODO: ouptut sizes????\n",
    "output_size = 10\n",
    "# number of LSTM layers\n",
    "n_layers = 1"
   ]
  },
  {
   "cell_type": "code",
   "execution_count": 15,
   "metadata": {},
   "outputs": [],
   "source": [
    "class NeuralNetwork(nn.Module):\n",
    "    def __init__(self, input_size, ouput_size, n_layers, hidden_size):\n",
    "        super(NeuralNetwork, self).__init__()\n",
    "        \n",
    "        self.output_size = output_size\n",
    "        self.n_layers = n_layers\n",
    "        self.hidden_size = hidden_size\n",
    "        \n",
    "        self.lstm = nn.LSTM(input_size, hidden_size[0], n_layers, batch_first=True)\n",
    "        \n",
    "        # First fully connected layer\n",
    "        self.fc1 = nn.Linear(hidden_size[1], output_size)\n",
    "        # Second fully connected layer\n",
    "        self.fc2 = nn.Linear(hidden_size[2], output_size)\n",
    "        \n",
    "        # Softmax activation\n",
    "        self.softmax = nn.Softmax()\n",
    "        \n",
    "    def forward(self, x, hidden):\n",
    "        # x(batch_size, seq_length, input_size)\n",
    "        # hidden(n_layers, batch_size, hidden_dim)\n",
    "        # r_out(batch_size, time_step, hidden_size)\n",
    "        batch_size = x.size(0)\n",
    "        \n",
    "        # get LSTM outputs\n",
    "        lstm_out, hidden = self.lstm(x, hidden)\n",
    "        \n",
    "        # shape output to be (batch_size*seq_length, hidden_dim)\n",
    "        lstm_out = lstm_out.view(-1, self.hidden_dim)\n",
    "        \n",
    "        # get output of first fully connected layer\n",
    "        out1 = self.fc1(lstm_out)\n",
    "        \n",
    "        # get output of second fully connected layer\n",
    "        out2 = self.fc2(out1)\n",
    "        \n",
    "        # softmax activation function\n",
    "        out2 = self.softmax(out2)\n",
    "        \n",
    "        # TODO: might need to reshape the out2\n",
    "        \n",
    "        return output, hidden"
   ]
  }
 ],
 "metadata": {
  "kernelspec": {
   "display_name": "Python 3",
   "language": "python",
   "name": "python3"
  },
  "language_info": {
   "codemirror_mode": {
    "name": "ipython",
    "version": 3
   },
   "file_extension": ".py",
   "mimetype": "text/x-python",
   "name": "python",
   "nbconvert_exporter": "python",
   "pygments_lexer": "ipython3",
   "version": "3.6.10"
  }
 },
 "nbformat": 4,
 "nbformat_minor": 4
}
