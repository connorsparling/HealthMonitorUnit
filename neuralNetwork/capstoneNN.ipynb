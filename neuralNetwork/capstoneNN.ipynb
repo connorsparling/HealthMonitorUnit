{
 "cells": [
  {
   "cell_type": "code",
   "execution_count": 25,
   "metadata": {},
   "outputs": [
    {
     "data": {
      "text/plain": [
       "<torch._C.Generator at 0x18e00261d90>"
      ]
     },
     "execution_count": 25,
     "metadata": {},
     "output_type": "execute_result"
    }
   ],
   "source": [
    "import torch\n",
    "import torch.nn as nn\n",
    "import torch.nn.functional as F\n",
    "import torch.optim as optim\n",
    "import pandas as pd\n",
    "import numpy as np\n",
    "import matplotlib.pyplot as plt\n",
    "from sklearn.model_selection import train_test_split # used for splitting training and testing data\n",
    "\n",
    "torch.manual_seed(1)"
   ]
  },
  {
   "cell_type": "code",
   "execution_count": 223,
   "metadata": {},
   "outputs": [
    {
     "data": {
      "text/plain": [
       "<Figure size 576x360 with 0 Axes>"
      ]
     },
     "metadata": {},
     "output_type": "display_data"
    }
   ],
   "source": [
    "plt.figure(figsize=(8,5))\n",
    "\n",
    "# time steps per batch of data\n",
    "seq_length = 100\n",
    "\n",
    "time_steps = np.linspace(0, np.pi, seq_length + 1)\n",
    "\n",
    "data = pd.read_csv('SectionData.csv')\n",
    "\n",
    "x = data.iloc[:, :-1].values\n",
    "y = data.iloc[:, -1].values"
   ]
  },
  {
   "cell_type": "code",
   "execution_count": 248,
   "metadata": {},
   "outputs": [],
   "source": [
    "class NeuralNetwork(nn.Module):\n",
    "    def __init__(self, input_size, ouput_size, n_layers, hidden_size, drop_prob):\n",
    "        \n",
    "        super(NeuralNetwork, self).__init__()\n",
    "        self.input_size = input_size\n",
    "        self.output_size = output_size\n",
    "        self.n_layers = n_layers\n",
    "        self.hidden_size = hidden_size\n",
    "        self.drop_prob = drop_prob\n",
    "                \n",
    "        self.lstm = nn.LSTM(input_size, hidden_size[0], n_layers, batch_first=True)\n",
    "        \n",
    "        self.dropout = nn.Dropout(drop_prob)\n",
    "        \n",
    "        # First fully connected layer\n",
    "        self.fc1 = nn.Linear(hidden_size[0], hidden_size[1])\n",
    "        # Second fully connected layer\n",
    "        self.fc2 = nn.Linear(hidden_size[1], hidden_size[2])\n",
    "        \n",
    "        # Softmax activation\n",
    "        self.softmax = nn.Softmax()\n",
    "        \n",
    "    def forward(self, x, hidden):\n",
    "        # x(batch_size, seq_length, input_size)\n",
    "        # hidden(n_layers, batch_size, hidden_dim)\n",
    "        # r_out(batch_size, time_step, hidden_size)\n",
    "        \n",
    "        # Use x.view(seq_len, batch, input_size)\n",
    "        # And this order corresponde to:\n",
    "        # seq_len = time dimension (how many time steps do you have)\n",
    "        # batch = mini-batch dimension (how much do you split ur data)\n",
    "        # input_size = feature dimension (so how many features do you have)\n",
    "        \n",
    "        x = x.view(1, x.size(0), self.input_size)\n",
    "        \n",
    "        if hidden is not None:\n",
    "            hidden = hidden.double()\n",
    "            \n",
    "        print(hidden)\n",
    "        \n",
    "        # get LSTM outputs\n",
    "        lstm_out, hidden = self.lstm(x, hidden)\n",
    "        \n",
    "        # shape output to be (batch_size*seq_length, hidden_dim)\n",
    "        lstm_out = lstm_out.view(-1, self.hidden_dim)\n",
    "        \n",
    "        # dropout layer\n",
    "        out = self.dropout(lstm_out)\n",
    "        \n",
    "        # get output of first fully connected layer\n",
    "        out1 = self.fc1(lstm_out)\n",
    "        \n",
    "        # get output of second fully connected layer\n",
    "        out2 = self.fc2(out1)\n",
    "        \n",
    "        # softmax activation function\n",
    "        out2 = self.softmax(out2)\n",
    "        \n",
    "        # TODO: might need to reshape the out2\n",
    "        \n",
    "        return output, hidden\n",
    "    \n",
    "    def init_hidden(self, batch_size):\n",
    "        '''initialize hidden states'''\n",
    "        # initialized initialized to zero, for hidden state and cell state of LSTM\n",
    "        weight = next(self.paramaters()).data\n",
    "        \n",
    "        hidden = (weight.new(self.n_layers, batch_size, self.hidden_size).zero_(),\n",
    "                 weight.new(self.n_layers, batch_size, self.hidden_size).zero_())\n",
    "        \n",
    "        return hidden"
   ]
  },
  {
   "cell_type": "code",
   "execution_count": 249,
   "metadata": {},
   "outputs": [],
   "source": [
    "def preprocess(df):\n",
    "\n",
    "    # drop ecgNum row\n",
    "    df = df.drop([\"ecgNum\"], axis=1)\n",
    "    # Classify the dependent and independent variables\n",
    "    X = df.iloc[:, :-1].values\n",
    "    Y = df.iloc[:, -1].values\n",
    "    # split the data into train, validate, test\n",
    "    X_temp, X_test, Y_temp, Y_test = train_test_split(X, Y, test_size=0.2, random_state=0)\n",
    "    X_train, X_val, Y_train, Y_val = train_test_split(X_temp, Y_temp, test_size=0.2, random_state=0)\n",
    "    \n",
    "    return torch.from_numpy(X_train), torch.from_numpy(X_val), torch.from_numpy(X_test), Y_train, Y_val, Y_test"
   ]
  },
  {
   "cell_type": "code",
   "execution_count": 250,
   "metadata": {},
   "outputs": [
    {
     "data": {
      "text/plain": [
       "(tensor([[-0.0073, -0.0095, -0.0112,  ...,  0.0055, -0.0147, -0.0244],\n",
       "         [-0.0724, -0.0792, -0.0600,  ..., -0.0284, -0.0487, -0.0392],\n",
       "         [ 0.0239,  0.0090,  0.0127,  ...,  0.0102,  0.0075,  0.0116],\n",
       "         ...,\n",
       "         [ 0.0303,  0.0208,  0.0186,  ...,  0.0457,  0.0438,  0.0378],\n",
       "         [-0.0068, -0.0079, -0.0086,  ..., -0.0128, -0.0096, -0.0071],\n",
       "         [-0.0615, -0.0699, -0.0729,  ..., -0.0334, -0.0324, -0.0403]],\n",
       "        dtype=torch.float64),\n",
       " tensor([[ 0.1049,  0.0905,  0.1028,  ...,  0.0754,  0.0830,  0.0788],\n",
       "         [ 0.0200,  0.0152,  0.0201,  ...,  0.0371,  0.0169,  0.0145],\n",
       "         [-0.0060,  0.0056, -0.0003,  ..., -0.0155, -0.0091, -0.0235],\n",
       "         ...,\n",
       "         [-0.0307, -0.0333, -0.0472,  ..., -0.0044, -0.0043, -0.0351],\n",
       "         [-0.0370, -0.0415, -0.0533,  ..., -0.0324, -0.0406, -0.0476],\n",
       "         [-0.0197, -0.0220, -0.0141,  ..., -0.0189, -0.0068,  0.0018]],\n",
       "        dtype=torch.float64),\n",
       " tensor([[ 0.0951,  0.0873,  0.0820,  ...,  0.0874,  0.0825,  0.0845],\n",
       "         [ 0.0600, -0.0258, -0.0070,  ...,  0.2589,  0.2362,  0.2537],\n",
       "         [-0.0307, -0.0274, -0.0334,  ..., -0.0330, -0.0232, -0.0232],\n",
       "         ...,\n",
       "         [ 0.1176,  0.0581,  0.0777,  ...,  0.3114,  0.2858,  0.2845],\n",
       "         [ 0.0349,  0.0735,  0.0215,  ...,  0.0264,  0.0008, -0.0473],\n",
       "         [ 0.0508,  0.0327,  0.0553,  ...,  0.0796,  0.0692,  0.0634]],\n",
       "        dtype=torch.float64),\n",
       " array(['N', 'N', 'N', ..., 'N', 'N', 'N'], dtype=object),\n",
       " array(['N', 'R', 'R', ..., 'N', 'N', 'N'], dtype=object),\n",
       " array(['N', 'N', 'N', ..., 'N', '/', 'N'], dtype=object))"
      ]
     },
     "execution_count": 250,
     "metadata": {},
     "output_type": "execute_result"
    }
   ],
   "source": [
    "preprocess(data)"
   ]
  },
  {
   "cell_type": "code",
   "execution_count": 251,
   "metadata": {},
   "outputs": [
    {
     "name": "stdout",
     "output_type": "stream",
     "text": [
      "NeuralNetwork(\n",
      "  (lstm): LSTM(100, 64, batch_first=True)\n",
      "  (dropout): Dropout(p=0.5, inplace=False)\n",
      "  (fc1): Linear(in_features=64, out_features=32, bias=True)\n",
      "  (fc2): Linear(in_features=32, out_features=6, bias=True)\n",
      "  (softmax): Softmax(dim=None)\n",
      ")\n"
     ]
    }
   ],
   "source": [
    "# size of the input at each time step\n",
    "# TODO: handle input sizes\n",
    "input_size = 100\n",
    "# size of the hidden state and cell state at each time step\n",
    "hidden_size = [64, 32, 6]\n",
    "# TODO: ouptut sizes\n",
    "output_size = [8, 4] # remove l8R\n",
    "# number of LSTM layers\n",
    "n_layers = 1\n",
    "# dropout probability\n",
    "drop_prob = 0.5\n",
    "\n",
    "# instantiate the NN\n",
    "neuralNet = NeuralNetwork(input_size, output_size, n_layers, hidden_size, drop_prob)\n",
    "print(neuralNet)"
   ]
  },
  {
   "cell_type": "code",
   "execution_count": 252,
   "metadata": {},
   "outputs": [],
   "source": [
    "# Mean Squared Error and Adam Optimizer with a learning rate of 0.01\n",
    "# TODO: play with LR\n",
    "criterion = nn.MSELoss()\n",
    "optimizer = torch.optim.Adam(neuralNet.parameters(), lr=0.01)"
   ]
  },
  {
   "cell_type": "code",
   "execution_count": 266,
   "metadata": {},
   "outputs": [],
   "source": [
    "# train the NN\n",
    "def train(neuralNet, n_steps, print_every):\n",
    "    # initialize the hidden state\n",
    "    hidden = torch.from_numpy(np.zeros((100,1,1,64))).double()\n",
    "    \n",
    "    X_train, X_val, X_test, Y_train, Y_val, Y_test = preprocess(data)\n",
    "    \n",
    "    for batch_i, step in enumerate(range(n_steps)):\n",
    "        # zero accumulated gradients\n",
    "        neuralNet.zero_grad()\n",
    "        \n",
    "        # output from the neural net\n",
    "        prediction, hidden = neuralNet(X_train, hidden)\n",
    "        \n",
    "        hidden = hidden.data\n",
    "        \n",
    "        # calculate the loss\n",
    "        loss = criterion(prediction, Y_train)\n",
    "        # zero gradients\n",
    "        optimizer.zero_grad()\n",
    "        # backpropogate and update weights\n",
    "        loss.backward()\n",
    "        optimizer.step()\n",
    "        \n",
    "        # display loss and predictions\n",
    "        if batch_i%print_every == 0:\n",
    "            print('Loss ', loss.item())\n",
    "            plt.plot(time_steps[1:], x, 'r.') #input\n",
    "            plt.plot(time_steps[1:], predction.data.numpy().flatten(), 'b.') #predictions\n",
    "            \n",
    "    return neuralNet"
   ]
  },
  {
   "cell_type": "code",
   "execution_count": 267,
   "metadata": {},
   "outputs": [
    {
     "name": "stdout",
     "output_type": "stream",
     "text": [
      "tensor([[[[0., 0., 0.,  ..., 0., 0., 0.]]],\n",
      "\n",
      "\n",
      "        [[[0., 0., 0.,  ..., 0., 0., 0.]]],\n",
      "\n",
      "\n",
      "        [[[0., 0., 0.,  ..., 0., 0., 0.]]],\n",
      "\n",
      "\n",
      "        ...,\n",
      "\n",
      "\n",
      "        [[[0., 0., 0.,  ..., 0., 0., 0.]]],\n",
      "\n",
      "\n",
      "        [[[0., 0., 0.,  ..., 0., 0., 0.]]],\n",
      "\n",
      "\n",
      "        [[[0., 0., 0.,  ..., 0., 0., 0.]]]], dtype=torch.float64)\n"
     ]
    },
    {
     "ename": "TypeError",
     "evalue": "lstm() received an invalid combination of arguments - got (Tensor, Tensor, list, bool, int, float, bool, bool, bool), but expected one of:\n * (Tensor data, Tensor batch_sizes, tuple of Tensors hx, tuple of Tensors params, bool has_biases, int num_layers, float dropout, bool train, bool bidirectional)\n      didn't match because some of the arguments have invalid types: (\u001b[32;1mTensor\u001b[0m, \u001b[32;1mTensor\u001b[0m, \u001b[31;1mlist\u001b[0m, \u001b[31;1mbool\u001b[0m, \u001b[31;1mint\u001b[0m, \u001b[31;1mfloat\u001b[0m, \u001b[31;1mbool\u001b[0m, \u001b[32;1mbool\u001b[0m, \u001b[32;1mbool\u001b[0m)\n * (Tensor input, tuple of Tensors hx, tuple of Tensors params, bool has_biases, int num_layers, float dropout, bool train, bool bidirectional, bool batch_first)\n      didn't match because some of the arguments have invalid types: (\u001b[32;1mTensor\u001b[0m, \u001b[31;1mTensor\u001b[0m, \u001b[31;1mlist\u001b[0m, \u001b[32;1mbool\u001b[0m, \u001b[32;1mint\u001b[0m, \u001b[32;1mfloat\u001b[0m, \u001b[32;1mbool\u001b[0m, \u001b[32;1mbool\u001b[0m, \u001b[32;1mbool\u001b[0m)\n",
     "output_type": "error",
     "traceback": [
      "\u001b[1;31m---------------------------------------------------------------------------\u001b[0m",
      "\u001b[1;31mTypeError\u001b[0m                                 Traceback (most recent call last)",
      "\u001b[1;32m<ipython-input-267-efa4e218eeec>\u001b[0m in \u001b[0;36m<module>\u001b[1;34m\u001b[0m\n\u001b[0;32m      2\u001b[0m \u001b[0mprint_every\u001b[0m \u001b[1;33m=\u001b[0m \u001b[1;36m45\u001b[0m\u001b[1;33m\u001b[0m\u001b[1;33m\u001b[0m\u001b[0m\n\u001b[0;32m      3\u001b[0m \u001b[1;33m\u001b[0m\u001b[0m\n\u001b[1;32m----> 4\u001b[1;33m \u001b[0mtrained_NN\u001b[0m \u001b[1;33m=\u001b[0m \u001b[0mtrain\u001b[0m\u001b[1;33m(\u001b[0m\u001b[0mneuralNet\u001b[0m\u001b[1;33m,\u001b[0m \u001b[0mn_steps\u001b[0m\u001b[1;33m,\u001b[0m \u001b[0mprint_every\u001b[0m\u001b[1;33m)\u001b[0m\u001b[1;33m\u001b[0m\u001b[1;33m\u001b[0m\u001b[0m\n\u001b[0m",
      "\u001b[1;32m<ipython-input-266-d0d787516586>\u001b[0m in \u001b[0;36mtrain\u001b[1;34m(neuralNet, n_steps, print_every)\u001b[0m\n\u001b[0;32m     11\u001b[0m \u001b[1;33m\u001b[0m\u001b[0m\n\u001b[0;32m     12\u001b[0m         \u001b[1;31m# output from the neural net\u001b[0m\u001b[1;33m\u001b[0m\u001b[1;33m\u001b[0m\u001b[1;33m\u001b[0m\u001b[0m\n\u001b[1;32m---> 13\u001b[1;33m         \u001b[0mprediction\u001b[0m\u001b[1;33m,\u001b[0m \u001b[0mhidden\u001b[0m \u001b[1;33m=\u001b[0m \u001b[0mneuralNet\u001b[0m\u001b[1;33m(\u001b[0m\u001b[0mX_train\u001b[0m\u001b[1;33m,\u001b[0m \u001b[0mhidden\u001b[0m\u001b[1;33m)\u001b[0m\u001b[1;33m\u001b[0m\u001b[1;33m\u001b[0m\u001b[0m\n\u001b[0m\u001b[0;32m     14\u001b[0m \u001b[1;33m\u001b[0m\u001b[0m\n\u001b[0;32m     15\u001b[0m         \u001b[0mhidden\u001b[0m \u001b[1;33m=\u001b[0m \u001b[0mhidden\u001b[0m\u001b[1;33m.\u001b[0m\u001b[0mdata\u001b[0m\u001b[1;33m\u001b[0m\u001b[1;33m\u001b[0m\u001b[0m\n",
      "\u001b[1;32mc:\\users\\stidw\\miniconda3\\envs\\deep-learning\\lib\\site-packages\\torch\\nn\\modules\\module.py\u001b[0m in \u001b[0;36m__call__\u001b[1;34m(self, *input, **kwargs)\u001b[0m\n\u001b[0;32m    530\u001b[0m             \u001b[0mresult\u001b[0m \u001b[1;33m=\u001b[0m \u001b[0mself\u001b[0m\u001b[1;33m.\u001b[0m\u001b[0m_slow_forward\u001b[0m\u001b[1;33m(\u001b[0m\u001b[1;33m*\u001b[0m\u001b[0minput\u001b[0m\u001b[1;33m,\u001b[0m \u001b[1;33m**\u001b[0m\u001b[0mkwargs\u001b[0m\u001b[1;33m)\u001b[0m\u001b[1;33m\u001b[0m\u001b[1;33m\u001b[0m\u001b[0m\n\u001b[0;32m    531\u001b[0m         \u001b[1;32melse\u001b[0m\u001b[1;33m:\u001b[0m\u001b[1;33m\u001b[0m\u001b[1;33m\u001b[0m\u001b[0m\n\u001b[1;32m--> 532\u001b[1;33m             \u001b[0mresult\u001b[0m \u001b[1;33m=\u001b[0m \u001b[0mself\u001b[0m\u001b[1;33m.\u001b[0m\u001b[0mforward\u001b[0m\u001b[1;33m(\u001b[0m\u001b[1;33m*\u001b[0m\u001b[0minput\u001b[0m\u001b[1;33m,\u001b[0m \u001b[1;33m**\u001b[0m\u001b[0mkwargs\u001b[0m\u001b[1;33m)\u001b[0m\u001b[1;33m\u001b[0m\u001b[1;33m\u001b[0m\u001b[0m\n\u001b[0m\u001b[0;32m    533\u001b[0m         \u001b[1;32mfor\u001b[0m \u001b[0mhook\u001b[0m \u001b[1;32min\u001b[0m \u001b[0mself\u001b[0m\u001b[1;33m.\u001b[0m\u001b[0m_forward_hooks\u001b[0m\u001b[1;33m.\u001b[0m\u001b[0mvalues\u001b[0m\u001b[1;33m(\u001b[0m\u001b[1;33m)\u001b[0m\u001b[1;33m:\u001b[0m\u001b[1;33m\u001b[0m\u001b[1;33m\u001b[0m\u001b[0m\n\u001b[0;32m    534\u001b[0m             \u001b[0mhook_result\u001b[0m \u001b[1;33m=\u001b[0m \u001b[0mhook\u001b[0m\u001b[1;33m(\u001b[0m\u001b[0mself\u001b[0m\u001b[1;33m,\u001b[0m \u001b[0minput\u001b[0m\u001b[1;33m,\u001b[0m \u001b[0mresult\u001b[0m\u001b[1;33m)\u001b[0m\u001b[1;33m\u001b[0m\u001b[1;33m\u001b[0m\u001b[0m\n",
      "\u001b[1;32m<ipython-input-248-2580ca88b979>\u001b[0m in \u001b[0;36mforward\u001b[1;34m(self, x, hidden)\u001b[0m\n\u001b[0;32m     40\u001b[0m \u001b[1;33m\u001b[0m\u001b[0m\n\u001b[0;32m     41\u001b[0m         \u001b[1;31m# get LSTM outputs\u001b[0m\u001b[1;33m\u001b[0m\u001b[1;33m\u001b[0m\u001b[1;33m\u001b[0m\u001b[0m\n\u001b[1;32m---> 42\u001b[1;33m         \u001b[0mlstm_out\u001b[0m\u001b[1;33m,\u001b[0m \u001b[0mhidden\u001b[0m \u001b[1;33m=\u001b[0m \u001b[0mself\u001b[0m\u001b[1;33m.\u001b[0m\u001b[0mlstm\u001b[0m\u001b[1;33m(\u001b[0m\u001b[0mx\u001b[0m\u001b[1;33m,\u001b[0m \u001b[0mhidden\u001b[0m\u001b[1;33m)\u001b[0m\u001b[1;33m\u001b[0m\u001b[1;33m\u001b[0m\u001b[0m\n\u001b[0m\u001b[0;32m     43\u001b[0m \u001b[1;33m\u001b[0m\u001b[0m\n\u001b[0;32m     44\u001b[0m         \u001b[1;31m# shape output to be (batch_size*seq_length, hidden_dim)\u001b[0m\u001b[1;33m\u001b[0m\u001b[1;33m\u001b[0m\u001b[1;33m\u001b[0m\u001b[0m\n",
      "\u001b[1;32mc:\\users\\stidw\\miniconda3\\envs\\deep-learning\\lib\\site-packages\\torch\\nn\\modules\\module.py\u001b[0m in \u001b[0;36m__call__\u001b[1;34m(self, *input, **kwargs)\u001b[0m\n\u001b[0;32m    530\u001b[0m             \u001b[0mresult\u001b[0m \u001b[1;33m=\u001b[0m \u001b[0mself\u001b[0m\u001b[1;33m.\u001b[0m\u001b[0m_slow_forward\u001b[0m\u001b[1;33m(\u001b[0m\u001b[1;33m*\u001b[0m\u001b[0minput\u001b[0m\u001b[1;33m,\u001b[0m \u001b[1;33m**\u001b[0m\u001b[0mkwargs\u001b[0m\u001b[1;33m)\u001b[0m\u001b[1;33m\u001b[0m\u001b[1;33m\u001b[0m\u001b[0m\n\u001b[0;32m    531\u001b[0m         \u001b[1;32melse\u001b[0m\u001b[1;33m:\u001b[0m\u001b[1;33m\u001b[0m\u001b[1;33m\u001b[0m\u001b[0m\n\u001b[1;32m--> 532\u001b[1;33m             \u001b[0mresult\u001b[0m \u001b[1;33m=\u001b[0m \u001b[0mself\u001b[0m\u001b[1;33m.\u001b[0m\u001b[0mforward\u001b[0m\u001b[1;33m(\u001b[0m\u001b[1;33m*\u001b[0m\u001b[0minput\u001b[0m\u001b[1;33m,\u001b[0m \u001b[1;33m**\u001b[0m\u001b[0mkwargs\u001b[0m\u001b[1;33m)\u001b[0m\u001b[1;33m\u001b[0m\u001b[1;33m\u001b[0m\u001b[0m\n\u001b[0m\u001b[0;32m    533\u001b[0m         \u001b[1;32mfor\u001b[0m \u001b[0mhook\u001b[0m \u001b[1;32min\u001b[0m \u001b[0mself\u001b[0m\u001b[1;33m.\u001b[0m\u001b[0m_forward_hooks\u001b[0m\u001b[1;33m.\u001b[0m\u001b[0mvalues\u001b[0m\u001b[1;33m(\u001b[0m\u001b[1;33m)\u001b[0m\u001b[1;33m:\u001b[0m\u001b[1;33m\u001b[0m\u001b[1;33m\u001b[0m\u001b[0m\n\u001b[0;32m    534\u001b[0m             \u001b[0mhook_result\u001b[0m \u001b[1;33m=\u001b[0m \u001b[0mhook\u001b[0m\u001b[1;33m(\u001b[0m\u001b[0mself\u001b[0m\u001b[1;33m,\u001b[0m \u001b[0minput\u001b[0m\u001b[1;33m,\u001b[0m \u001b[0mresult\u001b[0m\u001b[1;33m)\u001b[0m\u001b[1;33m\u001b[0m\u001b[1;33m\u001b[0m\u001b[0m\n",
      "\u001b[1;32mc:\\users\\stidw\\miniconda3\\envs\\deep-learning\\lib\\site-packages\\torch\\nn\\modules\\rnn.py\u001b[0m in \u001b[0;36mforward\u001b[1;34m(self, input, hx)\u001b[0m\n\u001b[0;32m    557\u001b[0m         \u001b[1;32mif\u001b[0m \u001b[0mbatch_sizes\u001b[0m \u001b[1;32mis\u001b[0m \u001b[1;32mNone\u001b[0m\u001b[1;33m:\u001b[0m\u001b[1;33m\u001b[0m\u001b[1;33m\u001b[0m\u001b[0m\n\u001b[0;32m    558\u001b[0m             result = _VF.lstm(input, hx, self._flat_weights, self.bias, self.num_layers,\n\u001b[1;32m--> 559\u001b[1;33m                               self.dropout, self.training, self.bidirectional, self.batch_first)\n\u001b[0m\u001b[0;32m    560\u001b[0m         \u001b[1;32melse\u001b[0m\u001b[1;33m:\u001b[0m\u001b[1;33m\u001b[0m\u001b[1;33m\u001b[0m\u001b[0m\n\u001b[0;32m    561\u001b[0m             result = _VF.lstm(input, batch_sizes, hx, self._flat_weights, self.bias,\n",
      "\u001b[1;31mTypeError\u001b[0m: lstm() received an invalid combination of arguments - got (Tensor, Tensor, list, bool, int, float, bool, bool, bool), but expected one of:\n * (Tensor data, Tensor batch_sizes, tuple of Tensors hx, tuple of Tensors params, bool has_biases, int num_layers, float dropout, bool train, bool bidirectional)\n      didn't match because some of the arguments have invalid types: (\u001b[32;1mTensor\u001b[0m, \u001b[32;1mTensor\u001b[0m, \u001b[31;1mlist\u001b[0m, \u001b[31;1mbool\u001b[0m, \u001b[31;1mint\u001b[0m, \u001b[31;1mfloat\u001b[0m, \u001b[31;1mbool\u001b[0m, \u001b[32;1mbool\u001b[0m, \u001b[32;1mbool\u001b[0m)\n * (Tensor input, tuple of Tensors hx, tuple of Tensors params, bool has_biases, int num_layers, float dropout, bool train, bool bidirectional, bool batch_first)\n      didn't match because some of the arguments have invalid types: (\u001b[32;1mTensor\u001b[0m, \u001b[31;1mTensor\u001b[0m, \u001b[31;1mlist\u001b[0m, \u001b[32;1mbool\u001b[0m, \u001b[32;1mint\u001b[0m, \u001b[32;1mfloat\u001b[0m, \u001b[32;1mbool\u001b[0m, \u001b[32;1mbool\u001b[0m, \u001b[32;1mbool\u001b[0m)\n"
     ]
    }
   ],
   "source": [
    "n_steps = 100\n",
    "print_every = 45\n",
    "\n",
    "trained_NN = train(neuralNet, n_steps, print_every)"
   ]
  },
  {
   "cell_type": "code",
   "execution_count": null,
   "metadata": {},
   "outputs": [],
   "source": []
  },
  {
   "cell_type": "code",
   "execution_count": null,
   "metadata": {},
   "outputs": [],
   "source": []
  }
 ],
 "metadata": {
  "kernelspec": {
   "display_name": "Python 3",
   "language": "python",
   "name": "python3"
  },
  "language_info": {
   "codemirror_mode": {
    "name": "ipython",
    "version": 3
   },
   "file_extension": ".py",
   "mimetype": "text/x-python",
   "name": "python",
   "nbconvert_exporter": "python",
   "pygments_lexer": "ipython3",
   "version": "3.6.10"
  }
 },
 "nbformat": 4,
 "nbformat_minor": 4
}
