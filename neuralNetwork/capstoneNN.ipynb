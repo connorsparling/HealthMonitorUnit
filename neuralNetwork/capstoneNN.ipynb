{
 "cells": [
  {
   "cell_type": "code",
   "execution_count": 1,
   "metadata": {},
   "outputs": [
    {
     "data": {
      "text/plain": [
       "<torch._C.Generator at 0x2a1a1108c50>"
      ]
     },
     "execution_count": 1,
     "metadata": {},
     "output_type": "execute_result"
    }
   ],
   "source": [
    "import torch\n",
    "import torch.nn as nn\n",
    "import torch.nn.functional as F\n",
    "import torch.optim as optim\n",
    "import pandas as pd\n",
    "import numpy as np\n",
    "import matplotlib.pyplot as plt\n",
    "from sklearn.model_selection import train_test_split # used for splitting training and testing data\n",
    "\n",
    "torch.manual_seed(1)"
   ]
  },
  {
   "cell_type": "code",
   "execution_count": 2,
   "metadata": {},
   "outputs": [
    {
     "data": {
      "text/plain": [
       "<Figure size 576x360 with 0 Axes>"
      ]
     },
     "metadata": {},
     "output_type": "display_data"
    }
   ],
   "source": [
    "plt.figure(figsize=(8,5))\n",
    "\n",
    "# time steps per batch of data\n",
    "seq_length = 100\n",
    "\n",
    "time_steps = np.linspace(0, np.pi, seq_length + 1)\n",
    "\n",
    "data = pd.read_csv('../Datasets/SectionData.csv')\n",
    "\n",
    "x = data.iloc[:, :-1].values\n",
    "y = data.iloc[:, -1].values"
   ]
  },
  {
   "cell_type": "code",
   "execution_count": 3,
   "metadata": {},
   "outputs": [],
   "source": [
    "class NeuralNetwork(nn.Module):\n",
    "    def __init__(self, input_size, n_layers, hidden_size, drop_prob):\n",
    "        \n",
    "        super(NeuralNetwork, self).__init__()\n",
    "        self.input_size = input_size\n",
    "        self.n_layers = n_layers\n",
    "        self.hidden_size = hidden_size\n",
    "        self.drop_prob = drop_prob\n",
    "                \n",
    "        self.lstm = nn.LSTM(input_size, hidden_size[0], n_layers, batch_first=True)\n",
    "        \n",
    "        self.dropout = nn.Dropout(drop_prob)\n",
    "        \n",
    "        # First fully connected layer\n",
    "        self.fc1 = nn.Linear(hidden_size[0], hidden_size[1])\n",
    "        # Second fully connected layer\n",
    "        self.fc2 = nn.Linear(hidden_size[1], hidden_size[2])\n",
    "        \n",
    "        # Softmax activation\n",
    "        self.softmax = nn.Softmax(dim=1)\n",
    "        \n",
    "    def forward(self, x, hidden):\n",
    "        # x(batch_size, seq_length, input_size)\n",
    "        # hidden(n_layers, batch_size, hidden_dim)\n",
    "        # r_out(batch_size, time_step, hidden_size)\n",
    "        \n",
    "        # Use x.view(seq_len, batch, input_size)\n",
    "        # And this order corresponde to:\n",
    "        # seq_len = time dimension (how many time steps do you have)\n",
    "        # batch = mini-batch dimension (how much do you split ur data)\n",
    "        # input_size = feature dimension (so how many features do you have)\n",
    "        \n",
    "        x = x.view(1, x.size(0), self.input_size)\n",
    "        \n",
    "        # get LSTM outputs\n",
    "        lstm_out, hidden = self.lstm(x, hidden)\n",
    "\n",
    "        # shape output to be (batch_size*seq_length, hidden_dim)\n",
    "        lstm_out = lstm_out.view(-1, self.hidden_size[0])\n",
    "        \n",
    "        # dropout layer\n",
    "        out = self.dropout(lstm_out)\n",
    "        \n",
    "        # get output of first fully connected layer\n",
    "        out1 = self.fc1(out)\n",
    "        \n",
    "        # get output of second fully connected layer\n",
    "        out2 = self.fc2(out1)\n",
    "        \n",
    "        # softmax activation function\n",
    "        output = self.softmax(out2)\n",
    "        \n",
    "        # TODO: might need to reshape the out2\n",
    "                \n",
    "        return output, hidden\n",
    "    \n",
    "    def init_hidden(self, batch_size):\n",
    "        '''initialize hidden states'''\n",
    "        # initialized initialized to zero, for hidden state and cell state of LSTM\n",
    "        weight = next(self.paramaters()).data\n",
    "        \n",
    "        hidden = (weight.new(self.n_layers, batch_size, self.hidden_size).zero_(),\n",
    "                 weight.new(self.n_layers, batch_size, self.hidden_size).zero_())\n",
    "        \n",
    "        return hidden"
   ]
  },
  {
   "cell_type": "code",
   "execution_count": 4,
   "metadata": {},
   "outputs": [],
   "source": [
    "def formatDataX(data):\n",
    "    temp = torch.tensor(data).float()\n",
    "    return temp.view(temp.size(0), 1, temp.size(1))\n",
    "\n",
    "def formatDataY(data):\n",
    "    return torch.tensor(data).float()"
   ]
  },
  {
   "cell_type": "code",
   "execution_count": 5,
   "metadata": {},
   "outputs": [],
   "source": [
    "def one_hot_encode(arr, n_labels):\n",
    "\n",
    "    \n",
    "    # Initialize the the encoded array\n",
    "    one_hot = np.zeros((arr.size, n_labels), dtype=np.float32)\n",
    "    \n",
    "    # Fill the appropriate elements with ones\n",
    "    one_hot[np.arange(one_hot.shape[0]), arr.flatten()] = 1.\n",
    "    \n",
    "    # Finally reshape it to get back to the original array\n",
    "    one_hot = one_hot.reshape((*arr.shape, n_labels))\n",
    "    \n",
    "    return one_hot\n",
    "\n",
    "def preprocess(df):\n",
    "\n",
    "    # drop ecgNum row\n",
    "    df = df.drop([\"ecgNum\"], axis=1)\n",
    "    # Classify the dependent and independent variables\n",
    "    X = df.iloc[:, :-1].values\n",
    "    Y = np.array([np.insert(np.zeros(5), label, 1) for label in df.iloc[:, -1].values])\n",
    "    \n",
    "    # split the data into train, validate, test\n",
    "    X_temp, X_test, Y_temp, Y_test = train_test_split(X, Y, test_size=0.2, random_state=0)\n",
    "    X_train, X_val, Y_train, Y_val = train_test_split(X_temp, Y_temp, test_size=0.2, random_state=0)\n",
    "    \n",
    "    return formatDataX(X_train), formatDataX(X_val), formatDataX(X_test), formatDataY(Y_train), formatDataY(Y_val), formatDataY(Y_test)"
   ]
  },
  {
   "cell_type": "code",
   "execution_count": 6,
   "metadata": {},
   "outputs": [
    {
     "name": "stdout",
     "output_type": "stream",
     "text": [
      "NeuralNetwork(\n",
      "  (lstm): LSTM(100, 64, batch_first=True)\n",
      "  (dropout): Dropout(p=0.5, inplace=False)\n",
      "  (fc1): Linear(in_features=64, out_features=32, bias=True)\n",
      "  (fc2): Linear(in_features=32, out_features=6, bias=True)\n",
      "  (softmax): Softmax(dim=1)\n",
      ")\n"
     ]
    }
   ],
   "source": [
    "# size of the input at each time step\n",
    "# TODO: handle input sizes\n",
    "input_size = 100\n",
    "# size of the hidden state and cell state at each time step\n",
    "hidden_size = [64, 32, 6]\n",
    "# number of LSTM layers\n",
    "n_layers = 1\n",
    "# dropout probability\n",
    "drop_prob = 0.5\n",
    "\n",
    "# instantiate the NN\n",
    "neuralNet = NeuralNetwork(input_size, n_layers, hidden_size, drop_prob)\n",
    "print(neuralNet)"
   ]
  },
  {
   "cell_type": "code",
   "execution_count": 7,
   "metadata": {},
   "outputs": [],
   "source": [
    "# Mean Squared Error and Adam Optimizer with a learning rate of 0.01\n",
    "# TODO: play with LR\n",
    "criterion = nn.MSELoss()\n",
    "optimizer = torch.optim.Adam(neuralNet.parameters(), lr=0.01)"
   ]
  },
  {
   "cell_type": "code",
   "execution_count": 10,
   "metadata": {},
   "outputs": [],
   "source": [
    "# train the NN\n",
    "def train(neuralNet, n_steps, print_every, clip):\n",
    "    # initialize the hidden state\n",
    "    # hidden = torch.from_numpy(np.zeros((100,1,1,64))).float()\n",
    "    \n",
    "    hidden = None\n",
    "    \n",
    "    X_train, X_val, X_test, Y_train, Y_val, Y_test = preprocess(data)\n",
    "    \n",
    "    for batch_i, step in enumerate(range(n_steps)):\n",
    "                \n",
    "        # zero accumulated gradients\n",
    "        neuralNet.zero_grad()\n",
    "        \n",
    "        # output from the neural net\n",
    "        prediction, hidden = neuralNet(X_train, hidden)\n",
    "        \n",
    "        print(prediction)\n",
    "        print(Y_train)\n",
    "        \n",
    "        #hidden = hidden.data\n",
    "        \n",
    "         # `clip_grad_norm` helps prevent the exploding gradient problem in RNNs / LSTMs.\n",
    "        nn.utils.clip_grad_norm_(neuralNet.parameters(), clip)\n",
    "        optimizer.step()\n",
    "        \n",
    "        # calculate the loss\n",
    "        loss = criterion(prediction, Y_train)\n",
    "        # zero gradients\n",
    "        optimizer.zero_grad()\n",
    "        # backpropogate and update weights\n",
    "        loss.backward()\n",
    "        optimizer.step()\n",
    "        \n",
    "        # display loss and predictions\n",
    "        if batch_i%print_every == 0:\n",
    "            print('Loss ', loss.item())\n",
    "            #plt.plot(time_steps[1:], x, 'r.') #input\n",
    "            #plt.plot(time_steps[1:], predction.data.numpy().flatten(), 'b.') #predictions\n",
    "            \n",
    "    return neuralNet"
   ]
  },
  {
   "cell_type": "code",
   "execution_count": null,
   "metadata": {},
   "outputs": [
    {
     "name": "stdout",
     "output_type": "stream",
     "text": [
      "tensor([[0.1787, 0.1418, 0.1858, 0.1572, 0.1618, 0.1747],\n",
      "        [0.1889, 0.1437, 0.1810, 0.1498, 0.1584, 0.1782],\n",
      "        [0.1850, 0.1460, 0.1809, 0.1550, 0.1573, 0.1757],\n",
      "        ...,\n",
      "        [0.2035, 0.1391, 0.1853, 0.1460, 0.1597, 0.1664],\n",
      "        [0.2067, 0.1391, 0.1795, 0.1423, 0.1601, 0.1723],\n",
      "        [0.2118, 0.1477, 0.1734, 0.1432, 0.1561, 0.1678]],\n",
      "       grad_fn=<SoftmaxBackward>)\n",
      "tensor([[1., 0., 0., 0., 0., 0.],\n",
      "        [0., 1., 0., 0., 0., 0.],\n",
      "        [1., 0., 0., 0., 0., 0.],\n",
      "        ...,\n",
      "        [0., 0., 0., 1., 0., 0.],\n",
      "        [1., 0., 0., 0., 0., 0.],\n",
      "        [1., 0., 0., 0., 0., 0.]])\n",
      "Loss  0.13045910000801086\n",
      "tensor([[0.2917, 0.1242, 0.1677, 0.1185, 0.1366, 0.1612],\n",
      "        [0.2988, 0.1155, 0.1710, 0.1075, 0.1357, 0.1715],\n",
      "        [0.3242, 0.1249, 0.1574, 0.1055, 0.1393, 0.1487],\n",
      "        ...,\n",
      "        [0.4919, 0.0890, 0.1255, 0.0718, 0.0941, 0.1278],\n",
      "        [0.4068, 0.1228, 0.1513, 0.0838, 0.0963, 0.1390],\n",
      "        [0.5710, 0.0853, 0.1156, 0.0513, 0.0787, 0.0981]],\n",
      "       grad_fn=<SoftmaxBackward>)\n",
      "tensor([[1., 0., 0., 0., 0., 0.],\n",
      "        [0., 1., 0., 0., 0., 0.],\n",
      "        [1., 0., 0., 0., 0., 0.],\n",
      "        ...,\n",
      "        [0., 0., 0., 1., 0., 0.],\n",
      "        [1., 0., 0., 0., 0., 0.],\n",
      "        [1., 0., 0., 0., 0., 0.]])\n"
     ]
    }
   ],
   "source": [
    "n_steps = 100\n",
    "print_every = 15\n",
    "clip = 5\n",
    "\n",
    "trained_NN = train(neuralNet, n_steps, print_every, clip)"
   ]
  },
  {
   "cell_type": "code",
   "execution_count": null,
   "metadata": {},
   "outputs": [],
   "source": []
  },
  {
   "cell_type": "code",
   "execution_count": null,
   "metadata": {},
   "outputs": [],
   "source": []
  }
 ],
 "metadata": {
  "kernelspec": {
   "display_name": "Python 3",
   "language": "python",
   "name": "python3"
  },
  "language_info": {
   "codemirror_mode": {
    "name": "ipython",
    "version": 3
   },
   "file_extension": ".py",
   "mimetype": "text/x-python",
   "name": "python",
   "nbconvert_exporter": "python",
   "pygments_lexer": "ipython3",
   "version": "3.6.10"
  }
 },
 "nbformat": 4,
 "nbformat_minor": 4
}
