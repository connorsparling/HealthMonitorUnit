{
 "cells": [
  {
   "cell_type": "code",
   "execution_count": 1,
   "metadata": {},
   "outputs": [
    {
     "data": {
      "text/plain": [
       "<torch._C.Generator at 0x127545790>"
      ]
     },
     "execution_count": 1,
     "metadata": {},
     "output_type": "execute_result"
    }
   ],
   "source": [
    "import torch\n",
    "import torch.nn as nn\n",
    "import torch.nn.functional as F\n",
    "import torch.optim as optim\n",
    "import pandas as pd\n",
    "import numpy as np\n",
    "import matplotlib.pyplot as plt\n",
    "from sklearn.model_selection import train_test_split # used for splitting training and testing data\n",
    "from sklearn.metrics import confusion_matrix\n",
    "from sklearn.utils.class_weight import compute_class_weight\n",
    "\n",
    "torch.manual_seed(1)"
   ]
  },
  {
   "cell_type": "code",
   "execution_count": 2,
   "metadata": {},
   "outputs": [
    {
     "data": {
      "text/plain": [
       "<Figure size 576x360 with 0 Axes>"
      ]
     },
     "metadata": {},
     "output_type": "display_data"
    }
   ],
   "source": [
    "plt.figure(figsize=(8,5))\n",
    "\n",
    "# time steps per batch of data\n",
    "seq_length = 100\n",
    "\n",
    "time_steps = np.linspace(0, np.pi, seq_length + 1)\n",
    "\n",
    "data = pd.read_csv('../Datasets/SectionData.csv')\n",
    "\n",
    "x = data.iloc[:, :-1].values\n",
    "y = data.iloc[:, -1].values"
   ]
  },
  {
   "cell_type": "code",
   "execution_count": 3,
   "metadata": {},
   "outputs": [],
   "source": [
    "class NeuralNetwork(nn.Module):\n",
    "    def __init__(self, input_size, kernel_size, hidden_size, drop_prob):\n",
    "        super(NeuralNetwork, self).__init__()\n",
    "        self.model = nn.Sequential(\n",
    "            nn.Conv1d(1, 1, kernel_size),\n",
    "            nn.Flatten(),\n",
    "            #nn.ReLU(),\n",
    "            nn.Dropout(drop_prob),\n",
    "            nn.Linear(input_size - kernel_size + 1, hidden_size[0]),\n",
    "            nn.Linear(hidden_size[0], hidden_size[1]),\n",
    "            nn.Linear(hidden_size[1], hidden_size[2]),\n",
    "            #nn.LogSoftmax(dim=1), # NLLLoss\n",
    "            nn.Softmax(dim=1) # MSELoss\n",
    "        )\n",
    "        #self.conv1 = nn.Conv1d(1, 1, kernel_size)\n",
    "        #self.flat = nn.Flatten()\n",
    "        #self.relu = nn.ReLU()\n",
    "        #self.dropout = nn.Dropout(drop_prob)\n",
    "        #self.fc1 = nn.Linear(input_size - kernel_size + 1, hidden_size[0])\n",
    "        #self.fc2 = nn.Linear(hidden_size[0], hidden_size[1])\n",
    "        #self.fc3 = nn.Linear(hidden_size[1], hidden_size[2])\n",
    "        #self.softmax = nn.Softmax(dim=1)\n",
    "        \n",
    "    def forward(self, x):\n",
    "        #print(\"X: \" + str(x.shape))\n",
    "        #out1 = self.conv1(x)\n",
    "        #print(\"Out1: \" + str(out1.size()))\n",
    "        #outF = self.flat(out1)\n",
    "        #print(\"OutF: \" + str(out1.size()))\n",
    "        #out2 = self.relu(outF)\n",
    "        #print(\"Out2: \" + str(out2.size()))\n",
    "        #out3 = self.dropout(out2)\n",
    "        #print(\"Out3: \" + str(out3.size()))\n",
    "        #out4 = self.fc1(out3)\n",
    "        #print(\"Out4: \" + str(out4.size()))\n",
    "        #out5 = self.fc2(out4)\n",
    "        #print(\"Out5: \" + str(out5.size()))\n",
    "        #out6 = self.fc3(out5)\n",
    "        #print(\"Out6: \" + str(out6.size()))\n",
    "        #print(out6)\n",
    "        #out7 = self.softmax(out6)\n",
    "        #print(\"Out7: \" + str(out7.size()))\n",
    "        #print(out7)    \n",
    "        \n",
    "        out = self.model(x)\n",
    "        \n",
    "        return out"
   ]
  },
  {
   "cell_type": "code",
   "execution_count": 4,
   "metadata": {},
   "outputs": [],
   "source": [
    "BEAT_TYPES_INDEX = {\n",
    "    'N': 0,\n",
    "    'L': 1,\n",
    "    'R': 2,\n",
    "    'A': 3,\n",
    "    'V': 4,\n",
    "    'F': 5,\n",
    "}\n",
    "\n",
    "def formatDataX(data):\n",
    "    temp = torch.tensor(data).float()\n",
    "    return temp.view(temp.size(0), 1, temp.size(1))\n",
    "\n",
    "def formatDataY(data):\n",
    "    return torch.tensor(data).float()\n",
    "\n",
    "def preprocess(df):\n",
    "\n",
    "    # drop ecgNum row\n",
    "    df = df.drop([\"ecgNum\"], axis=1)\n",
    "    # Classify the dependent and independent variables\n",
    "    X = df.iloc[:, :-1].values\n",
    "    labels = df.iloc[:, -1].values\n",
    "    Y = np.array([np.insert(np.zeros(5), BEAT_TYPES_INDEX[label], 1) for label in labels])\n",
    "    \n",
    "    # split the data into train, validate, test\n",
    "    X_temp, X_test, Y_temp, Y_test = train_test_split(X, Y, test_size=0.2, random_state=0)\n",
    "    X_train, X_val, Y_train, Y_val = train_test_split(X_temp, Y_temp, test_size=0.2, random_state=0)\n",
    "    \n",
    "    class_weights = compute_class_weight('balanced', ['N','L','R','A','V','F'], labels)\n",
    "    \n",
    "    return formatDataX(X_train), formatDataX(X_val), formatDataX(X_test), formatDataY(Y_train), formatDataY(Y_val), formatDataY(Y_test), formatDataY(class_weights)\n"
   ]
  },
  {
   "cell_type": "code",
   "execution_count": 5,
   "metadata": {},
   "outputs": [],
   "source": [
    "#X_train, X_val, X_test, Y_train, Y_val, Y_test, weights = preprocess(data)\n",
    "#print(X_train.size())\n",
    "#print(X_val.size())\n",
    "#print(X_test.size())\n",
    "#print(Y_train.size())\n",
    "#print(Y_val.size())\n",
    "#print(Y_test.size())"
   ]
  },
  {
   "cell_type": "code",
   "execution_count": 6,
   "metadata": {},
   "outputs": [
    {
     "name": "stdout",
     "output_type": "stream",
     "text": [
      "NeuralNetwork(\n",
      "  (model): Sequential(\n",
      "    (0): Conv1d(1, 1, kernel_size=(20,), stride=(1,))\n",
      "    (1): Flatten()\n",
      "    (2): Dropout(p=0.2, inplace=False)\n",
      "    (3): Linear(in_features=181, out_features=64, bias=True)\n",
      "    (4): Linear(in_features=64, out_features=32, bias=True)\n",
      "    (5): Linear(in_features=32, out_features=6, bias=True)\n",
      "    (6): Softmax(dim=1)\n",
      "  )\n",
      ")\n"
     ]
    }
   ],
   "source": [
    "# size of the input at each time step\n",
    "# TODO: handle input sizes\n",
    "input_size = 200\n",
    "# kernel size\n",
    "kernel_size = 20\n",
    "# size of the hidden state and cell state at each time step\n",
    "hidden_size = [64, 32, 6]\n",
    "# dropout probability\n",
    "drop_prob = 0.2\n",
    "\n",
    "# instantiate the NN\n",
    "neuralNet = NeuralNetwork(input_size, kernel_size, hidden_size, drop_prob)\n",
    "print(neuralNet)"
   ]
  },
  {
   "cell_type": "code",
   "execution_count": 7,
   "metadata": {},
   "outputs": [],
   "source": [
    "# Mean Squared Error and Adam Optimizer with a learning rate of 0.01\n",
    "# TODO: play with LR\n",
    "#criterion = nn.MSELoss()\n",
    "#optimizer = optim.SGD(net.parameters(), lr=0.01)\n",
    "#optimizer = torch.optim.Adam(neuralNet.parameters(), lr=0.01)"
   ]
  },
  {
   "cell_type": "code",
   "execution_count": 8,
   "metadata": {},
   "outputs": [],
   "source": [
    "epochs = 100\n",
    "print_every = 45\n",
    "\n",
    "X_train, X_val, X_test, Y_train, Y_val, Y_test, weights = preprocess(data)"
   ]
  },
  {
   "cell_type": "code",
   "execution_count": 9,
   "metadata": {},
   "outputs": [],
   "source": [
    "# train the NN\n",
    "def train(net, X, Y, num_epochs, weights):  \n",
    "    #criterion = nn.NLLLoss(weights) \n",
    "    criterion = nn.MSELoss()\n",
    "    \n",
    "    #optimizer = optim.SGD(net.parameters(), lr=0.01)\n",
    "    optimizer = torch.optim.Adam(net.parameters(), lr=0.01)\n",
    "    \n",
    "    for epoch in range (num_epochs):\n",
    "        optimizer.zero_grad()\n",
    "        out = net(X)\n",
    "        \n",
    "        # NLLLoss\n",
    "        # actValues, actIndices = torch.max(Y, 1)\n",
    "        #loss = criterion(out, actIndices)\n",
    "        \n",
    "        # MSELoss\n",
    "        loss = criterion(out, Y)\n",
    "        \n",
    "        loss.backward()\n",
    "        optimizer.step()\n",
    "        \n",
    "        print(\"Epoch {} of {} => Loss {:.4f}\\r\".format(epoch, num_epochs, loss.item()), end=\"\")\n",
    "\n",
    "    return net"
   ]
  },
  {
   "cell_type": "code",
   "execution_count": 10,
   "metadata": {},
   "outputs": [
    {
     "name": "stdout",
     "output_type": "stream",
     "text": [
      "Epoch 99 of 100 => Loss 0.0509\r"
     ]
    }
   ],
   "source": [
    "trained_NN = train(neuralNet, X_train, Y_train, epochs, weights)"
   ]
  },
  {
   "cell_type": "code",
   "execution_count": 11,
   "metadata": {},
   "outputs": [],
   "source": [
    "def test(net, X, Y):\n",
    "    resValues, resIndices = torch.max(net(X), 1)\n",
    "    length = len(resIndices.numpy())\n",
    "    testValues, testIndices = torch.max(Y, 1)\n",
    "    results = np.array([np.insert(np.zeros(5), index, 1) for index in resIndices])\n",
    "    \n",
    "    conf_matrix = confusion_matrix(resIndices.numpy(), testIndices.numpy())\n",
    "\n",
    "    correct = 0\n",
    "    for i in range(len(conf_matrix)):\n",
    "        correct += conf_matrix[i,i]\n",
    "        \n",
    "    print(\"Accuracy: {:.2%}\".format(correct/length))\n",
    "    \n",
    "    print(\"\\nConfusion Matrix:\")\n",
    "    print(conf_matrix)"
   ]
  },
  {
   "cell_type": "code",
   "execution_count": 12,
   "metadata": {},
   "outputs": [
    {
     "name": "stdout",
     "output_type": "stream",
     "text": [
      "Accuracy: 83.12%\n",
      "\n",
      "Confusion Matrix:\n",
      "[[14898  1139   541   266   558   146]\n",
      " [   11   278     2    23    39     0]\n",
      " [   44    17   898   121    41     0]\n",
      " [   16   192     3    33    96     8]\n",
      " [   76     5     2    46   601     1]\n",
      " [    0     0     0     0     0     0]]\n"
     ]
    }
   ],
   "source": [
    "#test(trained_NN, X_train, Y_train)\n",
    "test(trained_NN, X_test, Y_test)\n",
    "#test(trained_NN, X_val, Y_val)"
   ]
  },
  {
   "cell_type": "code",
   "execution_count": 14,
   "metadata": {},
   "outputs": [],
   "source": [
    "torch.save(trained_NN, \"../Models/TestingCNN.pt\")"
   ]
  },
  {
   "cell_type": "code",
   "execution_count": null,
   "metadata": {},
   "outputs": [],
   "source": []
  }
 ],
 "metadata": {
  "kernelspec": {
   "display_name": "Python 3",
   "language": "python",
   "name": "python3"
  },
  "language_info": {
   "codemirror_mode": {
    "name": "ipython",
    "version": 3
   },
   "file_extension": ".py",
   "mimetype": "text/x-python",
   "name": "python",
   "nbconvert_exporter": "python",
   "pygments_lexer": "ipython3",
   "version": "3.7.6"
  }
 },
 "nbformat": 4,
 "nbformat_minor": 4
}
