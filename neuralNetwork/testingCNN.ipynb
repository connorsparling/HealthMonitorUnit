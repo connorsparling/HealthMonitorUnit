{
 "cells": [
  {
   "cell_type": "code",
   "execution_count": 1,
   "metadata": {},
   "outputs": [
    {
     "data": {
      "text/plain": [
       "<torch._C.Generator at 0x124944790>"
      ]
     },
     "execution_count": 1,
     "metadata": {},
     "output_type": "execute_result"
    }
   ],
   "source": [
    "import torch\n",
    "import torch.nn as nn\n",
    "import torch.nn.functional as F\n",
    "import torch.optim as optim\n",
    "import pandas as pd\n",
    "import numpy as np\n",
    "import matplotlib.pyplot as plt\n",
    "from sklearn.model_selection import train_test_split # used for splitting training and testing data\n",
    "\n",
    "torch.manual_seed(1)"
   ]
  },
  {
   "cell_type": "code",
   "execution_count": 2,
   "metadata": {},
   "outputs": [
    {
     "data": {
      "text/plain": [
       "<Figure size 576x360 with 0 Axes>"
      ]
     },
     "metadata": {},
     "output_type": "display_data"
    }
   ],
   "source": [
    "plt.figure(figsize=(8,5))\n",
    "\n",
    "# time steps per batch of data\n",
    "seq_length = 100\n",
    "\n",
    "time_steps = np.linspace(0, np.pi, seq_length + 1)\n",
    "\n",
    "data = pd.read_csv('../Datasets/SectionData.csv')\n",
    "\n",
    "x = data.iloc[:, :-1].values\n",
    "y = data.iloc[:, -1].values"
   ]
  },
  {
   "cell_type": "code",
   "execution_count": 51,
   "metadata": {},
   "outputs": [],
   "source": [
    "class NeuralNetwork(nn.Module):\n",
    "    def __init__(self, input_size, kernel_size, hidden_size, drop_prob):\n",
    "        super(NeuralNetwork, self).__init__()\n",
    "        self.model = nn.Sequential(\n",
    "            nn.Conv1d(1, 1, kernel_size),\n",
    "            nn.Flatten(),\n",
    "            #nn.ReLU(),\n",
    "            nn.Dropout(drop_prob),\n",
    "            nn.Linear(input_size - kernel_size + 1, hidden_size[0]),\n",
    "            nn.Linear(hidden_size[0], hidden_size[1]),\n",
    "            nn.Linear(hidden_size[1], hidden_size[2]),\n",
    "            nn.Softmax(dim=1),\n",
    "        )\n",
    "        #self.conv1 = nn.Conv1d(1, 1, kernel_size)\n",
    "        #self.flat = nn.Flatten()\n",
    "        #self.relu = nn.ReLU()\n",
    "        #self.dropout = nn.Dropout(drop_prob)\n",
    "        #self.fc1 = nn.Linear(input_size - kernel_size + 1, hidden_size[0])\n",
    "        #self.fc2 = nn.Linear(hidden_size[0], hidden_size[1])\n",
    "        #self.fc3 = nn.Linear(hidden_size[1], hidden_size[2])\n",
    "        #self.softmax = nn.Softmax(dim=1)\n",
    "        \n",
    "    def forward(self, x):\n",
    "        #print(\"X: \" + str(x.shape))\n",
    "        #out1 = self.conv1(x)\n",
    "        #print(\"Out1: \" + str(out1.size()))\n",
    "        #outF = self.flat(out1)\n",
    "        #print(\"OutF: \" + str(out1.size()))\n",
    "        #out2 = self.relu(outF)\n",
    "        #print(\"Out2: \" + str(out2.size()))\n",
    "        #out3 = self.dropout(out2)\n",
    "        #print(\"Out3: \" + str(out3.size()))\n",
    "        #out4 = self.fc1(out3)\n",
    "        #print(\"Out4: \" + str(out4.size()))\n",
    "        #out5 = self.fc2(out4)\n",
    "        #print(\"Out5: \" + str(out5.size()))\n",
    "        #out6 = self.fc3(out5)\n",
    "        #print(\"Out6: \" + str(out6.size()))\n",
    "        #print(out6)\n",
    "        #out7 = self.softmax(out6)\n",
    "        #print(\"Out7: \" + str(out7.size()))\n",
    "        #print(out7)    \n",
    "        \n",
    "        out = self.model(x)\n",
    "        \n",
    "        return out"
   ]
  },
  {
   "cell_type": "code",
   "execution_count": 52,
   "metadata": {},
   "outputs": [],
   "source": [
    "BEAT_TYPES_INDEX = {\n",
    "    'N': 0,\n",
    "    'L': 1,\n",
    "    'R': 2,\n",
    "    'A': 3,\n",
    "    'V': 4,\n",
    "    'F': 5,\n",
    "}\n",
    "\n",
    "def formatDataX(data):\n",
    "    temp = torch.tensor(data).float()\n",
    "    return temp.view(temp.size(0), 1, temp.size(1))\n",
    "\n",
    "def formatDataY(data):\n",
    "    return torch.tensor(data).float()\n",
    "\n",
    "def preprocess(df):\n",
    "\n",
    "    # drop ecgNum row\n",
    "    df = df.drop([\"ecgNum\"], axis=1)\n",
    "    # Classify the dependent and independent variables\n",
    "    X = df.iloc[:, :-1].values\n",
    "    Y = np.array([np.insert(np.zeros(5), BEAT_TYPES_INDEX[label], 1) for label in df.iloc[:, -1].values])\n",
    "    \n",
    "    # split the data into train, validate, test\n",
    "    X_temp, X_test, Y_temp, Y_test = train_test_split(X, Y, test_size=0.2, random_state=0)\n",
    "    X_train, X_val, Y_train, Y_val = train_test_split(X_temp, Y_temp, test_size=0.2, random_state=0)\n",
    "    \n",
    "    return formatDataX(X_train), formatDataX(X_val), formatDataX(X_test), formatDataY(Y_train), formatDataY(Y_val), formatDataY(Y_test)\n"
   ]
  },
  {
   "cell_type": "code",
   "execution_count": 53,
   "metadata": {},
   "outputs": [],
   "source": [
    "#X_train, X_val, X_test, Y_train, Y_val, Y_test = preprocess(data)\n",
    "#print(X_train.size())\n",
    "#print(X_val.size())\n",
    "#print(X_test.size())\n",
    "#print(Y_train.size())\n",
    "#print(Y_val.size())\n",
    "#print(Y_test.size())"
   ]
  },
  {
   "cell_type": "code",
   "execution_count": 54,
   "metadata": {},
   "outputs": [
    {
     "name": "stdout",
     "output_type": "stream",
     "text": [
      "NeuralNetwork(\n",
      "  (model): Sequential(\n",
      "    (0): Conv1d(1, 1, kernel_size=(5,), stride=(1,))\n",
      "    (1): Flatten()\n",
      "    (2): Dropout(p=0.5, inplace=False)\n",
      "    (3): Linear(in_features=96, out_features=64, bias=True)\n",
      "    (4): Linear(in_features=64, out_features=32, bias=True)\n",
      "    (5): Linear(in_features=32, out_features=6, bias=True)\n",
      "    (6): Softmax(dim=1)\n",
      "  )\n",
      ")\n"
     ]
    }
   ],
   "source": [
    "# size of the input at each time step\n",
    "# TODO: handle input sizes\n",
    "input_size = 100\n",
    "# kernel size\n",
    "kernel_size = 5\n",
    "# size of the hidden state and cell state at each time step\n",
    "hidden_size = [64, 32, 6]\n",
    "# dropout probability\n",
    "drop_prob = 0.5\n",
    "\n",
    "# instantiate the NN\n",
    "neuralNet = NeuralNetwork(input_size, kernel_size, hidden_size, drop_prob)\n",
    "print(neuralNet)"
   ]
  },
  {
   "cell_type": "code",
   "execution_count": 55,
   "metadata": {},
   "outputs": [],
   "source": [
    "# Mean Squared Error and Adam Optimizer with a learning rate of 0.01\n",
    "# TODO: play with LR\n",
    "#criterion = nn.MSELoss()\n",
    "#optimizer = optim.SGD(net.parameters(), lr=0.01)\n",
    "#optimizer = torch.optim.Adam(neuralNet.parameters(), lr=0.01)"
   ]
  },
  {
   "cell_type": "code",
   "execution_count": 56,
   "metadata": {},
   "outputs": [],
   "source": [
    "# train the NN\n",
    "def train(net, X, Y, n_steps, print_every):  \n",
    "    criterion = nn.MSELoss()\n",
    "    #optimizer = optim.SGD(net.parameters(), lr=0.01)\n",
    "    optimizer = torch.optim.Adam(net.parameters(), lr=0.01)\n",
    "    \n",
    "    for batch_i, step in enumerate(range(n_steps)):\n",
    "        optimizer.zero_grad()\n",
    "        out = net(X)\n",
    "        loss = criterion(out, Y)\n",
    "        loss.backward()\n",
    "        optimizer.step()\n",
    "        print('Loss ', loss.item())\n",
    "\n",
    "    return net"
   ]
  },
  {
   "cell_type": "code",
   "execution_count": 57,
   "metadata": {},
   "outputs": [],
   "source": [
    "n_steps = 100\n",
    "print_every = 45\n",
    "\n",
    "X_train, X_val, X_test, Y_train, Y_val, Y_test = preprocess(data)"
   ]
  },
  {
   "cell_type": "code",
   "execution_count": 58,
   "metadata": {},
   "outputs": [
    {
     "name": "stdout",
     "output_type": "stream",
     "text": [
      "Loss  0.13735166192054749\n",
      "Loss  0.12685279548168182\n",
      "Loss  0.11254105716943741\n",
      "Loss  0.09052569419145584\n",
      "Loss  0.07302019745111465\n",
      "Loss  0.0780811682343483\n",
      "Loss  0.08266469836235046\n",
      "Loss  0.0842873752117157\n",
      "Loss  0.08489696681499481\n",
      "Loss  0.08511433005332947\n",
      "Loss  0.08521134406328201\n",
      "Loss  0.08513137698173523\n",
      "Loss  0.08497758209705353\n",
      "Loss  0.08468446880578995\n",
      "Loss  0.08421865850687027\n",
      "Loss  0.08333616703748703\n",
      "Loss  0.08191660791635513\n",
      "Loss  0.0796315148472786\n",
      "Loss  0.07622276246547699\n",
      "Loss  0.07294794917106628\n",
      "Loss  0.07400626689195633\n",
      "Loss  0.07666225731372833\n",
      "Loss  0.07438042014837265\n",
      "Loss  0.0716535672545433\n",
      "Loss  0.07097186893224716\n",
      "Loss  0.07110040634870529\n",
      "Loss  0.07122339308261871\n",
      "Loss  0.07064484059810638\n",
      "Loss  0.06974456459283829\n",
      "Loss  0.06860290467739105\n",
      "Loss  0.0678168386220932\n",
      "Loss  0.06798000633716583\n",
      "Loss  0.06818224489688873\n",
      "Loss  0.06729642301797867\n",
      "Loss  0.066430002450943\n",
      "Loss  0.06558962911367416\n",
      "Loss  0.06522255390882492\n",
      "Loss  0.06493443250656128\n",
      "Loss  0.06431486457586288\n",
      "Loss  0.06348761171102524\n",
      "Loss  0.06317523866891861\n",
      "Loss  0.06316664069890976\n",
      "Loss  0.06262173503637314\n",
      "Loss  0.06206917390227318\n",
      "Loss  0.06140262261033058\n",
      "Loss  0.06140252202749252\n",
      "Loss  0.06076847389340401\n",
      "Loss  0.060288991779088974\n",
      "Loss  0.05965089052915573\n",
      "Loss  0.05983453616499901\n",
      "Loss  0.059396881610155106\n",
      "Loss  0.05913444608449936\n",
      "Loss  0.058981750160455704\n",
      "Loss  0.05871952325105667\n",
      "Loss  0.05862215906381607\n",
      "Loss  0.05815428867936134\n",
      "Loss  0.05837713181972504\n",
      "Loss  0.058347299695014954\n",
      "Loss  0.05782134830951691\n",
      "Loss  0.05770000442862511\n",
      "Loss  0.05732531100511551\n",
      "Loss  0.05724787712097168\n",
      "Loss  0.056833669543266296\n",
      "Loss  0.05685482546687126\n",
      "Loss  0.05626654624938965\n",
      "Loss  0.0559464767575264\n",
      "Loss  0.055700939148664474\n",
      "Loss  0.0558023676276207\n",
      "Loss  0.055648840963840485\n",
      "Loss  0.05538193881511688\n",
      "Loss  0.05524450168013573\n",
      "Loss  0.055128104984760284\n",
      "Loss  0.055027786642313004\n",
      "Loss  0.05496933311223984\n",
      "Loss  0.05488673597574234\n",
      "Loss  0.054844848811626434\n",
      "Loss  0.054769568145275116\n",
      "Loss  0.05429338291287422\n",
      "Loss  0.05448200926184654\n",
      "Loss  0.05411165952682495\n",
      "Loss  0.054070986807346344\n",
      "Loss  0.05391718074679375\n",
      "Loss  0.053795114159584045\n",
      "Loss  0.05386754125356674\n",
      "Loss  0.05377155914902687\n",
      "Loss  0.05344617739319801\n",
      "Loss  0.05340161547064781\n",
      "Loss  0.053448282182216644\n",
      "Loss  0.05350559949874878\n",
      "Loss  0.05337958037853241\n",
      "Loss  0.053279515355825424\n",
      "Loss  0.053339097648859024\n",
      "Loss  0.053231194615364075\n",
      "Loss  0.053001388907432556\n",
      "Loss  0.053174424916505814\n",
      "Loss  0.05294816568493843\n",
      "Loss  0.05318393558263779\n",
      "Loss  0.0530971921980381\n",
      "Loss  0.05317522957921028\n",
      "Loss  0.0527803972363472\n"
     ]
    }
   ],
   "source": [
    "trained_NN = train(neuralNet, X_train, Y_train, n_steps, print_every)"
   ]
  },
  {
   "cell_type": "code",
   "execution_count": 59,
   "metadata": {},
   "outputs": [],
   "source": [
    "def test(net, X, Y):\n",
    "    results = net(X)\n",
    "    resValues, resIndices = torch.max(results, 1)\n",
    "    testValues, testIndices = torch.max(Y, 1)\n",
    "    print(resIndices.shape)\n",
    "    print(testIndices.shape)\n",
    "    #for i in range(len(resIndices)):\n",
    "    print(results[100])\n",
    "    print(Y[100])\n",
    "    print(resIndices[100])\n",
    "    print(testIndices[100])\n",
    "        #break\n",
    "        #pass"
   ]
  },
  {
   "cell_type": "code",
   "execution_count": 60,
   "metadata": {},
   "outputs": [
    {
     "name": "stdout",
     "output_type": "stream",
     "text": [
      "torch.Size([20101])\n",
      "torch.Size([20101])\n",
      "tensor([8.9295e-01, 1.0557e-01, 7.7456e-04, 6.5290e-05, 4.7506e-06, 6.3297e-04],\n",
      "       grad_fn=<SelectBackward>)\n",
      "tensor([1., 0., 0., 0., 0., 0.])\n",
      "tensor(0)\n",
      "tensor(0)\n"
     ]
    }
   ],
   "source": [
    "test(trained_NN, X_test, Y_test)"
   ]
  },
  {
   "cell_type": "code",
   "execution_count": null,
   "metadata": {},
   "outputs": [],
   "source": []
  },
  {
   "cell_type": "code",
   "execution_count": null,
   "metadata": {},
   "outputs": [],
   "source": []
  }
 ],
 "metadata": {
  "kernelspec": {
   "display_name": "Python 3",
   "language": "python",
   "name": "python3"
  },
  "language_info": {
   "codemirror_mode": {
    "name": "ipython",
    "version": 3
   },
   "file_extension": ".py",
   "mimetype": "text/x-python",
   "name": "python",
   "nbconvert_exporter": "python",
   "pygments_lexer": "ipython3",
   "version": "3.7.6"
  }
 },
 "nbformat": 4,
 "nbformat_minor": 4
}
