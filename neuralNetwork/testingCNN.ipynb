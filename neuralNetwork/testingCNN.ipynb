{
 "cells": [
  {
   "cell_type": "code",
   "execution_count": 3,
   "metadata": {},
   "outputs": [
    {
     "data": {
      "text/plain": [
       "<torch._C.Generator at 0x124bae850>"
      ]
     },
     "execution_count": 3,
     "metadata": {},
     "output_type": "execute_result"
    }
   ],
   "source": [
    "import torch\n",
    "import torch.nn as nn\n",
    "import torch.nn.functional as F\n",
    "import torch.optim as optim\n",
    "import pandas as pd\n",
    "import numpy as np\n",
    "import matplotlib.pyplot as plt\n",
    "from sklearn.model_selection import train_test_split # used for splitting training and testing data\n",
    "from sklearn.metrics import confusion_matrix\n",
    "\n",
    "torch.manual_seed(1)"
   ]
  },
  {
   "cell_type": "code",
   "execution_count": 15,
   "metadata": {},
   "outputs": [
    {
     "data": {
      "text/plain": [
       "<Figure size 576x360 with 0 Axes>"
      ]
     },
     "metadata": {},
     "output_type": "display_data"
    }
   ],
   "source": [
    "plt.figure(figsize=(8,5))\n",
    "\n",
    "# time steps per batch of data\n",
    "seq_length = 100\n",
    "\n",
    "time_steps = np.linspace(0, np.pi, seq_length + 1)\n",
    "\n",
    "data = pd.read_csv('../Datasets/SectionData.csv')\n",
    "\n",
    "x = data.iloc[:, :-1].values\n",
    "y = data.iloc[:, -1].values"
   ]
  },
  {
   "cell_type": "code",
   "execution_count": 44,
   "metadata": {},
   "outputs": [],
   "source": [
    "class NeuralNetwork(nn.Module):\n",
    "    def __init__(self, input_size, kernel_size, hidden_size, drop_prob):\n",
    "        super(NeuralNetwork, self).__init__()\n",
    "        self.model = nn.Sequential(\n",
    "            nn.Conv1d(1, 1, kernel_size),\n",
    "            nn.Flatten(),\n",
    "            #nn.ReLU(),\n",
    "            nn.Dropout(drop_prob),\n",
    "            nn.Linear(input_size - kernel_size + 1, hidden_size[0]),\n",
    "            nn.Linear(hidden_size[0], hidden_size[1]),\n",
    "            nn.Linear(hidden_size[1], hidden_size[2]),\n",
    "            nn.Softmax(dim=1),\n",
    "        )\n",
    "        #self.conv1 = nn.Conv1d(1, 1, kernel_size)\n",
    "        #self.flat = nn.Flatten()\n",
    "        #self.relu = nn.ReLU()\n",
    "        #self.dropout = nn.Dropout(drop_prob)\n",
    "        #self.fc1 = nn.Linear(input_size - kernel_size + 1, hidden_size[0])\n",
    "        #self.fc2 = nn.Linear(hidden_size[0], hidden_size[1])\n",
    "        #self.fc3 = nn.Linear(hidden_size[1], hidden_size[2])\n",
    "        #self.softmax = nn.Softmax(dim=1)\n",
    "        \n",
    "    def forward(self, x):\n",
    "        #print(\"X: \" + str(x.shape))\n",
    "        #out1 = self.conv1(x)\n",
    "        #print(\"Out1: \" + str(out1.size()))\n",
    "        #outF = self.flat(out1)\n",
    "        #print(\"OutF: \" + str(out1.size()))\n",
    "        #out2 = self.relu(outF)\n",
    "        #print(\"Out2: \" + str(out2.size()))\n",
    "        #out3 = self.dropout(out2)\n",
    "        #print(\"Out3: \" + str(out3.size()))\n",
    "        #out4 = self.fc1(out3)\n",
    "        #print(\"Out4: \" + str(out4.size()))\n",
    "        #out5 = self.fc2(out4)\n",
    "        #print(\"Out5: \" + str(out5.size()))\n",
    "        #out6 = self.fc3(out5)\n",
    "        #print(\"Out6: \" + str(out6.size()))\n",
    "        #print(out6)\n",
    "        #out7 = self.softmax(out6)\n",
    "        #print(\"Out7: \" + str(out7.size()))\n",
    "        #print(out7)    \n",
    "        \n",
    "        out = self.model(x)\n",
    "        \n",
    "        return out"
   ]
  },
  {
   "cell_type": "code",
   "execution_count": 37,
   "metadata": {},
   "outputs": [],
   "source": [
    "BEAT_TYPES_INDEX = {\n",
    "    'N': 0,\n",
    "    'L': 1,\n",
    "    'R': 2,\n",
    "    'A': 3,\n",
    "    'V': 4,\n",
    "    'F': 5,\n",
    "}\n",
    "\n",
    "def formatDataX(data):\n",
    "    temp = torch.tensor(data).float()\n",
    "    return temp.view(temp.size(0), 1, temp.size(1))\n",
    "\n",
    "def formatDataY(data):\n",
    "    return torch.tensor(data).float()\n",
    "\n",
    "def preprocess(df):\n",
    "\n",
    "    # drop ecgNum row\n",
    "    df = df.drop([\"ecgNum\"], axis=1)\n",
    "    # Classify the dependent and independent variables\n",
    "    X = df.iloc[:, :-1].values\n",
    "    Y = np.array([np.insert(np.zeros(5), BEAT_TYPES_INDEX[label], 1) for label in df.iloc[:, -1].values])\n",
    "    \n",
    "    # split the data into train, validate, test\n",
    "    X_temp, X_test, Y_temp, Y_test = train_test_split(X, Y, test_size=0.2, random_state=0)\n",
    "    X_train, X_val, Y_train, Y_val = train_test_split(X_temp, Y_temp, test_size=0.2, random_state=0)\n",
    "    \n",
    "    return formatDataX(X_train), formatDataX(X_val), formatDataX(X_test), formatDataY(Y_train), formatDataY(Y_val), formatDataY(Y_test)\n"
   ]
  },
  {
   "cell_type": "code",
   "execution_count": 38,
   "metadata": {},
   "outputs": [],
   "source": [
    "#X_train, X_val, X_test, Y_train, Y_val, Y_test = preprocess(data)\n",
    "#print(X_train.size())\n",
    "#print(X_val.size())\n",
    "#print(X_test.size())\n",
    "#print(Y_train.size())\n",
    "#print(Y_val.size())\n",
    "#print(Y_test.size())"
   ]
  },
  {
   "cell_type": "code",
   "execution_count": 45,
   "metadata": {},
   "outputs": [
    {
     "name": "stdout",
     "output_type": "stream",
     "text": [
      "NeuralNetwork(\n",
      "  (model): Sequential(\n",
      "    (0): Conv1d(1, 1, kernel_size=(20,), stride=(1,))\n",
      "    (1): Flatten()\n",
      "    (2): Dropout(p=0.2, inplace=False)\n",
      "    (3): Linear(in_features=181, out_features=64, bias=True)\n",
      "    (4): Linear(in_features=64, out_features=32, bias=True)\n",
      "    (5): Linear(in_features=32, out_features=6, bias=True)\n",
      "    (6): Softmax(dim=1)\n",
      "  )\n",
      ")\n"
     ]
    }
   ],
   "source": [
    "# size of the input at each time step\n",
    "# TODO: handle input sizes\n",
    "input_size = 200\n",
    "# kernel size\n",
    "kernel_size = 20\n",
    "# size of the hidden state and cell state at each time step\n",
    "hidden_size = [64, 32, 6]\n",
    "# dropout probability\n",
    "drop_prob = 0.2\n",
    "\n",
    "# instantiate the NN\n",
    "neuralNet = NeuralNetwork(input_size, kernel_size, hidden_size, drop_prob)\n",
    "print(neuralNet)"
   ]
  },
  {
   "cell_type": "code",
   "execution_count": 46,
   "metadata": {},
   "outputs": [],
   "source": [
    "# Mean Squared Error and Adam Optimizer with a learning rate of 0.01\n",
    "# TODO: play with LR\n",
    "#criterion = nn.MSELoss()\n",
    "#optimizer = optim.SGD(net.parameters(), lr=0.01)\n",
    "#optimizer = torch.optim.Adam(neuralNet.parameters(), lr=0.01)"
   ]
  },
  {
   "cell_type": "code",
   "execution_count": 47,
   "metadata": {},
   "outputs": [],
   "source": [
    "# train the NN\n",
    "def train(net, X, Y, num_epochs):  \n",
    "    criterion = nn.MSELoss()\n",
    "    #optimizer = optim.SGD(net.parameters(), lr=0.01)\n",
    "    optimizer = torch.optim.Adam(net.parameters(), lr=0.01)\n",
    "    \n",
    "    for epoch in range (num_epochs):\n",
    "        optimizer.zero_grad()\n",
    "        out = net(X)\n",
    "        loss = criterion(out, Y)\n",
    "        loss.backward()\n",
    "        optimizer.step()\n",
    "        print('Loss ', loss.item())\n",
    "\n",
    "    return net"
   ]
  },
  {
   "cell_type": "code",
   "execution_count": 48,
   "metadata": {},
   "outputs": [],
   "source": [
    "epochs = 100\n",
    "print_every = 45\n",
    "\n",
    "X_train, X_val, X_test, Y_train, Y_val, Y_test = preprocess(data)"
   ]
  },
  {
   "cell_type": "code",
   "execution_count": 49,
   "metadata": {},
   "outputs": [
    {
     "name": "stdout",
     "output_type": "stream",
     "text": [
      "Loss  0.1421380490064621\n",
      "Loss  0.10222505033016205\n",
      "Loss  0.07693897187709808\n",
      "Loss  0.08315418660640717\n",
      "Loss  0.08507984131574631\n",
      "Loss  0.08560729026794434\n",
      "Loss  0.08563666045665741\n",
      "Loss  0.08525707572698593\n",
      "Loss  0.08408773690462112\n",
      "Loss  0.07980195432901382\n",
      "Loss  0.08279348164796829\n",
      "Loss  0.07527728378772736\n",
      "Loss  0.07603474706411362\n",
      "Loss  0.07439752668142319\n",
      "Loss  0.07392140477895737\n",
      "Loss  0.07331164926290512\n",
      "Loss  0.07147959619760513\n",
      "Loss  0.0745042935013771\n",
      "Loss  0.07161404192447662\n",
      "Loss  0.07313697785139084\n",
      "Loss  0.07144074887037277\n",
      "Loss  0.0718887448310852\n",
      "Loss  0.07047086954116821\n",
      "Loss  0.06954211741685867\n",
      "Loss  0.0692533329129219\n",
      "Loss  0.06856653839349747\n",
      "Loss  0.06817538291215897\n",
      "Loss  0.06833898276090622\n",
      "Loss  0.06766212731599808\n",
      "Loss  0.0673184022307396\n",
      "Loss  0.06715712696313858\n",
      "Loss  0.06677841395139694\n",
      "Loss  0.06631115823984146\n",
      "Loss  0.06615789979696274\n",
      "Loss  0.06577794253826141\n",
      "Loss  0.06532696634531021\n",
      "Loss  0.0650155171751976\n",
      "Loss  0.06467150151729584\n",
      "Loss  0.06419187784194946\n",
      "Loss  0.06385461986064911\n",
      "Loss  0.0634874477982521\n",
      "Loss  0.06309030950069427\n",
      "Loss  0.06263130903244019\n",
      "Loss  0.062180884182453156\n",
      "Loss  0.061631929129362106\n",
      "Loss  0.0612664595246315\n",
      "Loss  0.06078338250517845\n",
      "Loss  0.060216713696718216\n",
      "Loss  0.05988675355911255\n",
      "Loss  0.05938318371772766\n",
      "Loss  0.05887971073389053\n",
      "Loss  0.05860763043165207\n",
      "Loss  0.05818789079785347\n",
      "Loss  0.057958461344242096\n",
      "Loss  0.05761988088488579\n",
      "Loss  0.05731579288840294\n",
      "Loss  0.057090990245342255\n",
      "Loss  0.05694884806871414\n",
      "Loss  0.05694388970732689\n",
      "Loss  0.056719664484262466\n",
      "Loss  0.05655490979552269\n",
      "Loss  0.05652880668640137\n",
      "Loss  0.0563516691327095\n",
      "Loss  0.05620072782039642\n",
      "Loss  0.05602697655558586\n",
      "Loss  0.05594482272863388\n",
      "Loss  0.055806275457143784\n",
      "Loss  0.055722154676914215\n",
      "Loss  0.05554354563355446\n",
      "Loss  0.05547734722495079\n",
      "Loss  0.05534328520298004\n",
      "Loss  0.055202458053827286\n",
      "Loss  0.055007223039865494\n",
      "Loss  0.054887909442186356\n",
      "Loss  0.054915424436330795\n",
      "Loss  0.05476989224553108\n",
      "Loss  0.05475396662950516\n",
      "Loss  0.054615627974271774\n",
      "Loss  0.05460558831691742\n",
      "Loss  0.05446217209100723\n",
      "Loss  0.05434669181704521\n",
      "Loss  0.05423898994922638\n",
      "Loss  0.05416656285524368\n",
      "Loss  0.05413055792450905\n",
      "Loss  0.0539456345140934\n",
      "Loss  0.05386190488934517\n",
      "Loss  0.05358961224555969\n",
      "Loss  0.053469374775886536\n",
      "Loss  0.05323159694671631\n",
      "Loss  0.05295811966061592\n",
      "Loss  0.05271100625395775\n",
      "Loss  0.052355796098709106\n",
      "Loss  0.05195065587759018\n",
      "Loss  0.05145785212516785\n",
      "Loss  0.05103626847267151\n",
      "Loss  0.05069740489125252\n",
      "Loss  0.05040751397609711\n",
      "Loss  0.049962084740400314\n",
      "Loss  0.049764737486839294\n",
      "Loss  0.04940223693847656\n"
     ]
    }
   ],
   "source": [
    "trained_NN = train(neuralNet, X_train, Y_train, epochs)"
   ]
  },
  {
   "cell_type": "code",
   "execution_count": 60,
   "metadata": {},
   "outputs": [],
   "source": [
    "def test(net, X, Y):\n",
    "    resValues, resIndices = torch.max(net(X), 1)\n",
    "    length = len(resIndices.numpy())\n",
    "    testValues, testIndices = torch.max(Y, 1)\n",
    "    results = np.array([np.insert(np.zeros(5), index, 1) for index in resIndices])\n",
    "    \n",
    "    conf_matrix = confusion_matrix(resIndices.numpy(), testIndices.numpy())\n",
    "\n",
    "    correct = 0\n",
    "    for i in range(len(conf_matrix)):\n",
    "        correct += conf_matrix[i,i]\n",
    "        \n",
    "    print(\"Accuracy: {:.2%}\".format(correct/length))\n",
    "    \n",
    "    print(\"\\nConfusion Matrix:\")\n",
    "    print(conf_matrix)"
   ]
  },
  {
   "cell_type": "code",
   "execution_count": 63,
   "metadata": {},
   "outputs": [
    {
     "name": "stdout",
     "output_type": "stream",
     "text": [
      "Accuracy: 83.24%\n",
      "\n",
      "Confusion Matrix:\n",
      "[[14731   927   493   267   629   145]\n",
      " [  125   495    11    22    84    10]\n",
      " [   85    32   938   144    62     0]\n",
      " [    4     1     0    10     2     0]\n",
      " [   90   174     4    46   558     0]\n",
      " [   10     2     0     0     0     0]]\n"
     ]
    }
   ],
   "source": [
    "#test(trained_NN, X_train, Y_train)\n",
    "test(trained_NN, X_test, Y_test)\n",
    "#test(trained_NN, X_val, Y_val)"
   ]
  },
  {
   "cell_type": "code",
   "execution_count": null,
   "metadata": {},
   "outputs": [],
   "source": []
  },
  {
   "cell_type": "code",
   "execution_count": null,
   "metadata": {},
   "outputs": [],
   "source": []
  }
 ],
 "metadata": {
  "kernelspec": {
   "display_name": "Python 3",
   "language": "python",
   "name": "python3"
  },
  "language_info": {
   "codemirror_mode": {
    "name": "ipython",
    "version": 3
   },
   "file_extension": ".py",
   "mimetype": "text/x-python",
   "name": "python",
   "nbconvert_exporter": "python",
   "pygments_lexer": "ipython3",
   "version": "3.7.6"
  }
 },
 "nbformat": 4,
 "nbformat_minor": 4
}
