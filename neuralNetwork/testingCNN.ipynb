{
 "cells": [
  {
   "cell_type": "code",
   "execution_count": 1,
   "metadata": {},
   "outputs": [
    {
     "data": {
      "text/plain": [
       "<torch._C.Generator at 0x109da7770>"
      ]
     },
     "execution_count": 1,
     "metadata": {},
     "output_type": "execute_result"
    }
   ],
   "source": [
    "import torch\n",
    "import torch.nn as nn\n",
    "import pandas as pd\n",
    "import numpy as np\n",
    "from sklearn.metrics import confusion_matrix\n",
    "\n",
    "torch.manual_seed(1)"
   ]
  },
  {
   "cell_type": "code",
   "execution_count": 2,
   "metadata": {},
   "outputs": [],
   "source": [
    "# time steps per batch of data\n",
    "seq_length = 100\n",
    "\n",
    "time_steps = np.linspace(0, np.pi, seq_length + 1)\n",
    "\n",
    "data = pd.read_csv('../Datasets/SectionData.csv')\n",
    "\n",
    "x = data.iloc[:, :-1].values\n",
    "y = data.iloc[:, -1].values"
   ]
  },
  {
   "cell_type": "code",
   "execution_count": 3,
   "metadata": {},
   "outputs": [],
   "source": [
    "class NeuralNetwork(nn.Module):\n",
    "    def __init__(self, input_size, kernel_size, hidden_size, drop_prob):\n",
    "        super(NeuralNetwork, self).__init__()\n",
    "        self.model = nn.Sequential(\n",
    "            nn.Conv1d(1, 1, kernel_size),\n",
    "            nn.Flatten(),\n",
    "            nn.Dropout(drop_prob),\n",
    "            nn.Linear(input_size - kernel_size + 1, hidden_size[0]),\n",
    "            nn.Linear(hidden_size[0], hidden_size[1]),\n",
    "            nn.Linear(hidden_size[1], hidden_size[2]),\n",
    "            #nn.LogSoftmax(dim=1), # NLLLoss\n",
    "            nn.Softmax(dim=1) # MSELoss\n",
    "        )\n",
    "        \n",
    "    def forward(self, x):\n",
    "        return self.model(x)"
   ]
  },
  {
   "cell_type": "code",
   "execution_count": 4,
   "metadata": {},
   "outputs": [],
   "source": [
    "BEAT_TYPES_INDEX = {\n",
    "    'N': 0,\n",
    "    'L': 1,\n",
    "    'R': 2,\n",
    "    'A': 3,\n",
    "    'V': 4,\n",
    "    #'F': 5,\n",
    "}\n",
    "\n",
    "def formatDataX(data):\n",
    "    temp = torch.tensor(data).float()\n",
    "    return temp.view(temp.size(0), 1, temp.size(1))\n",
    "\n",
    "def formatDataY(data):\n",
    "    return torch.tensor(data).float()\n",
    "\n",
    "def preprocess(df):\n",
    "\n",
    "    # drop ecgNum row\n",
    "    df = df.drop([\"ecgNum\"], axis=1)\n",
    "    # Classify the dependent and independent variables\n",
    "    X = df.iloc[:, :-1].values\n",
    "    labels = df.iloc[:, -1].values\n",
    "    Y = np.array([np.insert(np.zeros(5), BEAT_TYPES_INDEX[label], 1) for label in labels])\n",
    "\n",
    "    return formatDataX(X), formatDataY(Y)\n"
   ]
  },
  {
   "cell_type": "code",
   "execution_count": 5,
   "metadata": {},
   "outputs": [],
   "source": [
    "X, Y = preprocess(data)"
   ]
  },
  {
   "cell_type": "code",
   "execution_count": 68,
   "metadata": {},
   "outputs": [
    {
     "data": {
      "text/plain": [
       "NeuralNetwork(\n",
       "  (model): Sequential(\n",
       "    (0): Conv1d(1, 1, kernel_size=(20,), stride=(1,))\n",
       "    (1): Flatten()\n",
       "    (2): Dropout(p=0.2, inplace=False)\n",
       "    (3): Linear(in_features=181, out_features=64, bias=True)\n",
       "    (4): Linear(in_features=64, out_features=32, bias=True)\n",
       "    (5): Linear(in_features=32, out_features=6, bias=True)\n",
       "    (6): Softmax(dim=1)\n",
       "  )\n",
       ")"
      ]
     },
     "execution_count": 68,
     "metadata": {},
     "output_type": "execute_result"
    }
   ],
   "source": [
    "torch.load(\"../Models/CurrentBest.pt\")"
   ]
  },
  {
   "cell_type": "code",
   "execution_count": 66,
   "metadata": {},
   "outputs": [],
   "source": [
    "def test(net, X, Y, print_conf=True):\n",
    "    resValues, resIndices = torch.max(net(X), 1)\n",
    "    length = len(resIndices.numpy())\n",
    "    testValues, testIndices = torch.max(Y, 1)\n",
    "    results = np.array([np.insert(np.zeros(5), index, 1) for index in resIndices])\n",
    "    \n",
    "    conf_matrix = confusion_matrix(resIndices.numpy(), testIndices.numpy())\n",
    "\n",
    "    correct = 0\n",
    "    for i in range(len(conf_matrix)):\n",
    "        correct += conf_matrix[i,i]\n",
    "        \n",
    "    print(\"Accuracy: {:.2%}\".format(correct/length))\n",
    "    if print_conf:\n",
    "        print(\"Confusion Matrix:\")\n",
    "        print(conf_matrix)"
   ]
  },
  {
   "cell_type": "code",
   "execution_count": 67,
   "metadata": {},
   "outputs": [
    {
     "name": "stdout",
     "output_type": "stream",
     "text": [
      "Accuracy: 85.58%\n",
      "Confusion Matrix:\n",
      "[[72651  3219  2464   953  1840   502]\n",
      " [ 1032  3804    64   124   515    77]\n",
      " [  267   190  4669   112   197     7]\n",
      " [  186   453    30  1123   236     5]\n",
      " [  447   351     5   218  3561     5]\n",
      " [  139    52    18    14   769   206]]\n"
     ]
    }
   ],
   "source": [
    "test(trained_NN, X, Y)"
   ]
  },
  {
   "cell_type": "code",
   "execution_count": null,
   "metadata": {},
   "outputs": [],
   "source": []
  }
 ],
 "metadata": {
  "kernelspec": {
   "display_name": "Python 3",
   "language": "python",
   "name": "python3"
  },
  "language_info": {
   "codemirror_mode": {
    "name": "ipython",
    "version": 3
   },
   "file_extension": ".py",
   "mimetype": "text/x-python",
   "name": "python",
   "nbconvert_exporter": "python",
   "pygments_lexer": "ipython3",
   "version": "3.7.6"
  }
 },
 "nbformat": 4,
 "nbformat_minor": 4
}
